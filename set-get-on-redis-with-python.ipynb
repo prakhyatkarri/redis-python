{
 "cells": [
  {
   "cell_type": "markdown",
   "metadata": {},
   "source": [
    "## CRUD Operations on Redis using Python\n",
    "\n",
    "For this example, we are using [Redis](https://hub.docker.com/_/redis) image in Docker compose environment."
   ]
  },
  {
   "cell_type": "markdown",
   "metadata": {},
   "source": [
    "### Spin up Docker compose environment"
   ]
  },
  {
   "cell_type": "code",
   "execution_count": 42,
   "metadata": {},
   "outputs": [
    {
     "name": "stderr",
     "output_type": "stream",
     "text": [
      "Network redis-python_default  Creating\n",
      "Network redis-python_default  Created\n",
      "Container redis-python-db-1  Creating\n",
      "Container redis-python-db-1  Created\n",
      "Container redis-python-db-1  Starting\n",
      "Container redis-python-db-1  Started\n"
     ]
    }
   ],
   "source": [
    "!docker compose up --remove-orphans -d \n",
    "\n",
    "# --remove-orphans will remove any previously ran dangling containers\n",
    "# -d will run container in a detached mode"
   ]
  },
  {
   "cell_type": "markdown",
   "metadata": {},
   "source": [
    "### Install Redis library for Python"
   ]
  },
  {
   "cell_type": "code",
   "execution_count": 43,
   "metadata": {},
   "outputs": [
    {
     "name": "stdout",
     "output_type": "stream",
     "text": [
      "Requirement already satisfied: redis in c:\\users\\prakh\\appdata\\local\\packages\\pythonsoftwarefoundation.python.3.10_qbz5n2kfra8p0\\localcache\\local-packages\\python310\\site-packages (4.3.4)\n",
      "Requirement already satisfied: async-timeout>=4.0.2 in c:\\users\\prakh\\appdata\\local\\packages\\pythonsoftwarefoundation.python.3.10_qbz5n2kfra8p0\\localcache\\local-packages\\python310\\site-packages (from redis) (4.0.2)\n",
      "Requirement already satisfied: packaging>=20.4 in c:\\users\\prakh\\appdata\\local\\packages\\pythonsoftwarefoundation.python.3.10_qbz5n2kfra8p0\\localcache\\local-packages\\python310\\site-packages (from redis) (21.3)\n",
      "Requirement already satisfied: deprecated>=1.2.3 in c:\\users\\prakh\\appdata\\local\\packages\\pythonsoftwarefoundation.python.3.10_qbz5n2kfra8p0\\localcache\\local-packages\\python310\\site-packages (from redis) (1.2.13)\n",
      "Requirement already satisfied: wrapt<2,>=1.10 in c:\\users\\prakh\\appdata\\local\\packages\\pythonsoftwarefoundation.python.3.10_qbz5n2kfra8p0\\localcache\\local-packages\\python310\\site-packages (from deprecated>=1.2.3->redis) (1.14.1)\n",
      "Requirement already satisfied: pyparsing!=3.0.5,>=2.0.2 in c:\\users\\prakh\\appdata\\local\\packages\\pythonsoftwarefoundation.python.3.10_qbz5n2kfra8p0\\localcache\\local-packages\\python310\\site-packages (from packaging>=20.4->redis) (3.0.9)\n",
      "Note: you may need to restart the kernel to use updated packages.\n"
     ]
    },
    {
     "name": "stderr",
     "output_type": "stream",
     "text": [
      "\n",
      "[notice] A new release of pip available: 22.2.2 -> 22.3.1\n",
      "[notice] To update, run: C:\\Users\\prakh\\AppData\\Local\\Microsoft\\WindowsApps\\PythonSoftwareFoundation.Python.3.10_qbz5n2kfra8p0\\python.exe -m pip install --upgrade pip\n"
     ]
    }
   ],
   "source": [
    "pip install redis"
   ]
  },
  {
   "cell_type": "markdown",
   "metadata": {},
   "source": [
    "### Create a client connection"
   ]
  },
  {
   "cell_type": "code",
   "execution_count": 44,
   "metadata": {},
   "outputs": [
    {
     "name": "stdout",
     "output_type": "stream",
     "text": [
      "Client Connection Successful !!\n"
     ]
    }
   ],
   "source": [
    "from redis import Redis\n",
    "\n",
    "HOST = 'localhost'\n",
    "PORT = 6379\n",
    "DATABASE = 0\n",
    "PASSWORD = 'simplepass'\n",
    "\n",
    "client = Redis(host=HOST, port=PORT, db=DATABASE, password=PASSWORD)\n",
    "\n",
    "if client is not None and client.ping():\n",
    "    print('Client Connection Successful !!')\n",
    "else:\n",
    "    print('Client Connection Failed (X)')"
   ]
  },
  {
   "cell_type": "markdown",
   "metadata": {},
   "source": [
    "### Set and Get an item using Client"
   ]
  },
  {
   "cell_type": "code",
   "execution_count": 45,
   "metadata": {},
   "outputs": [
    {
     "name": "stdout",
     "output_type": "stream",
     "text": [
      "True\n",
      "b'some-value-1'\n"
     ]
    }
   ],
   "source": [
    "KEY1 = \"some-key-1\"\n",
    "VALUE1 = \"some-value-1\"\n",
    "\n",
    "client_set_result = client.set(KEY1, VALUE1)\n",
    "print(client_set_result)\n",
    "client_get_result = client.get(KEY1)\n",
    "print(client_get_result)"
   ]
  },
  {
   "cell_type": "markdown",
   "metadata": {},
   "source": [
    "### Create a Client using Connection Pool"
   ]
  },
  {
   "cell_type": "code",
   "execution_count": 46,
   "metadata": {},
   "outputs": [
    {
     "name": "stdout",
     "output_type": "stream",
     "text": [
      "Pool Client Connection Successful !!\n"
     ]
    }
   ],
   "source": [
    "from redis import ConnectionPool\n",
    "\n",
    "connection_pool = ConnectionPool(host=HOST, port=PORT, db=DATABASE, password=PASSWORD)\n",
    "pool_client = Redis(connection_pool=connection_pool)\n",
    "\n",
    "if pool_client is not None and pool_client.ping():\n",
    "    print('Pool Client Connection Successful !!')\n",
    "else:\n",
    "    print('Pool Client Connection Failed (X)')"
   ]
  },
  {
   "cell_type": "markdown",
   "metadata": {},
   "source": [
    "### Set and Get an item using Pool Client"
   ]
  },
  {
   "cell_type": "code",
   "execution_count": 47,
   "metadata": {},
   "outputs": [
    {
     "name": "stdout",
     "output_type": "stream",
     "text": [
      "True\n",
      "b'some-value-2'\n"
     ]
    }
   ],
   "source": [
    "KEY2 = \"some-key-2\"\n",
    "VALUE2 = \"some-value-2\"\n",
    "\n",
    "pool_client_set_result = pool_client.set(KEY2, VALUE2)\n",
    "print(pool_client_set_result)\n",
    "pool_client_get_result = pool_client.get(KEY2)\n",
    "print(pool_client_get_result)"
   ]
  },
  {
   "cell_type": "markdown",
   "metadata": {},
   "source": [
    "### Create an AsyncIO client"
   ]
  },
  {
   "cell_type": "code",
   "execution_count": 48,
   "metadata": {},
   "outputs": [
    {
     "name": "stdout",
     "output_type": "stream",
     "text": [
      "AsyncIO connection Established in : 0:00:02.010646 seconds\n"
     ]
    }
   ],
   "source": [
    "import redis.asyncio\n",
    "from datetime import datetime\n",
    "\n",
    "start_time = datetime.now()\n",
    "asyncio_client = redis.asyncio.Redis(host=HOST, port=PORT, db=DATABASE, password=PASSWORD)\n",
    "await asyncio_client.ping()\n",
    "end_time = datetime.now()\n",
    "print(f\"AsyncIO connection Established in : {end_time - start_time} seconds\")"
   ]
  },
  {
   "cell_type": "markdown",
   "metadata": {},
   "source": [
    "### Set and Get an item using AsyncIO client"
   ]
  },
  {
   "cell_type": "code",
   "execution_count": 49,
   "metadata": {},
   "outputs": [
    {
     "name": "stdout",
     "output_type": "stream",
     "text": [
      "True\n",
      "b'some-value-3'\n"
     ]
    }
   ],
   "source": [
    "KEY3 = \"some-key-3\"\n",
    "VALUE3 = \"some-value-3\"\n",
    "\n",
    "asyncio_client_set_result = asyncio_client.set(KEY3, VALUE3)\n",
    "print(f\"{await asyncio_client_set_result}\")\n",
    "asyncio_client_get_result = asyncio_client.get(KEY3)\n",
    "print(f\"{await asyncio_client_get_result}\")"
   ]
  },
  {
   "cell_type": "markdown",
   "metadata": {},
   "source": [
    "### Transactions with AsyncIO client"
   ]
  },
  {
   "cell_type": "code",
   "execution_count": 50,
   "metadata": {},
   "outputs": [],
   "source": [
    "KEY4 = \"some-key-4\"\n",
    "VALUE4 = \"some-value-4\"\n",
    "KEY5 = \"some-key-5\"\n",
    "VALUE5 = \"some-value-5\"\n",
    "\n",
    "transaction_asyncio_client = await redis.asyncio.from_url(f\"redis://:{PASSWORD}@{HOST}:{PORT}/{DATABASE}\")\n",
    "\n",
    "async with transaction_asyncio_client.pipeline(transaction=True) as pipeline:\n",
    "    ok1, ok2 = await (\n",
    "            pipeline \\\n",
    "            .set(KEY4, VALUE4) \\\n",
    "            .set(KEY5, VALUE5) \\\n",
    "            .execute()\n",
    "        )\n",
    "\n",
    "assert ok1\n",
    "assert ok2"
   ]
  },
  {
   "cell_type": "markdown",
   "metadata": {},
   "source": [
    "### Create a Pub/Sub Client"
   ]
  },
  {
   "cell_type": "code",
   "execution_count": 51,
   "metadata": {},
   "outputs": [
    {
     "name": "stdout",
     "output_type": "stream",
     "text": [
      "(Reader) Message Received: {'type': 'message', 'pattern': None, 'channel': b'channel:1', 'data': b'Hello'}\n",
      "(Reader) Message Received: {'type': 'message', 'pattern': None, 'channel': b'channel:2', 'data': b'World'}\n",
      "(Reader) Message Received: {'type': 'message', 'pattern': None, 'channel': b'channel:1', 'data': b'STOP'}\n",
      "(Reader) STOP\n"
     ]
    }
   ],
   "source": [
    "import asyncio\n",
    "import async_timeout\n",
    "\n",
    "STOPWORD = \"STOP\"\n",
    "\n",
    "async def reader(channel: redis.asyncio.client.PubSub):\n",
    "    while True:\n",
    "        try:\n",
    "            async with async_timeout.timeout(1):\n",
    "                message = await channel.get_message(ignore_subscribe_messages=True)\n",
    "                if message is not None:\n",
    "                    print(f\"(Reader) Message Received: {message}\")\n",
    "                    if message[\"data\"].decode() == STOPWORD:\n",
    "                        print(\"(Reader) STOP\")\n",
    "                        break\n",
    "                await asyncio.sleep(0.01)\n",
    "        except asyncio.TimeoutError:\n",
    "            pass\n",
    "\n",
    "pubsub_client = redis.asyncio.from_url(f\"redis://:{PASSWORD}@{HOST}:{PORT}/{DATABASE}\")\n",
    "pubsub = pubsub_client.pubsub()\n",
    "await pubsub.subscribe(\"channel:1\", \"channel:2\")\n",
    "\n",
    "future = asyncio.create_task(reader(pubsub))\n",
    "\n",
    "await pubsub_client.publish(\"channel:1\", \"Hello\")\n",
    "await pubsub_client.publish(\"channel:2\", \"World\")\n",
    "await pubsub_client.publish(\"channel:1\", STOPWORD)\n",
    "\n",
    "await future"
   ]
  },
  {
   "cell_type": "markdown",
   "metadata": {},
   "source": [
    "### Clean up connections and resources"
   ]
  },
  {
   "cell_type": "code",
   "execution_count": 52,
   "metadata": {},
   "outputs": [
    {
     "name": "stderr",
     "output_type": "stream",
     "text": [
      "C:\\Users\\prakh\\AppData\\Local\\Temp\\ipykernel_19160\\1209903389.py:3: RuntimeWarning: coroutine 'Redis.close' was never awaited\n",
      "  asyncio_client.close()\n",
      "RuntimeWarning: Enable tracemalloc to get the object allocation traceback\n",
      "C:\\Users\\prakh\\AppData\\Local\\Temp\\ipykernel_19160\\1209903389.py:4: RuntimeWarning: coroutine 'Redis.close' was never awaited\n",
      "  transaction_asyncio_client.close()\n",
      "RuntimeWarning: Enable tracemalloc to get the object allocation traceback\n",
      "C:\\Users\\prakh\\AppData\\Local\\Temp\\ipykernel_19160\\1209903389.py:5: RuntimeWarning: coroutine 'Redis.close' was never awaited\n",
      "  pubsub_client.close()\n",
      "RuntimeWarning: Enable tracemalloc to get the object allocation traceback\n",
      "Container redis-python-db-1  Stopping\n",
      "Container redis-python-db-1  Stopping\n",
      "Container redis-python-db-1  Stopped\n",
      "Container redis-python-db-1  Removing\n",
      "Container redis-python-db-1  Removed\n",
      "Network redis-python_default  Removing\n",
      "Network redis-python_default  Removed\n"
     ]
    }
   ],
   "source": [
    "client.close()\n",
    "pool_client.close()\n",
    "asyncio_client.close()\n",
    "transaction_asyncio_client.close()\n",
    "pubsub_client.close()\n",
    "\n",
    "!docker compose down"
   ]
  }
 ],
 "metadata": {
  "kernelspec": {
   "display_name": "Python 3.10.8 64-bit (microsoft store)",
   "language": "python",
   "name": "python3"
  },
  "language_info": {
   "codemirror_mode": {
    "name": "ipython",
    "version": 3
   },
   "file_extension": ".py",
   "mimetype": "text/x-python",
   "name": "python",
   "nbconvert_exporter": "python",
   "pygments_lexer": "ipython3",
   "version": "3.10.8"
  },
  "orig_nbformat": 4,
  "vscode": {
   "interpreter": {
    "hash": "634444e4a42c0510ef2be0612b67bda39089e87c9d0419d021c4c25ff12e5e30"
   }
  }
 },
 "nbformat": 4,
 "nbformat_minor": 2
}
